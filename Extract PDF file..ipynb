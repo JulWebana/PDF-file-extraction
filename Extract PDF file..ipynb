{
 "cells": [
  {
   "cell_type": "code",
   "execution_count": 1,
   "id": "80d79f19",
   "metadata": {},
   "outputs": [],
   "source": [
    "#Install required packages"
   ]
  },
  {
   "cell_type": "code",
   "execution_count": 2,
   "id": "167b34c3",
   "metadata": {},
   "outputs": [
    {
     "name": "stdout",
     "output_type": "stream",
     "text": [
      "Requirement already satisfied: PyPDF2 in c:\\users\\user\\anaconda3.1\\lib\\site-packages (1.26.0)\n",
      "Note: you may need to restart the kernel to use updated packages.\n"
     ]
    }
   ],
   "source": [
    "pip install PyPDF2"
   ]
  },
  {
   "cell_type": "code",
   "execution_count": 3,
   "id": "c433568c",
   "metadata": {},
   "outputs": [],
   "source": [
    "# importing required modules\n",
    "import PyPDF2"
   ]
  },
  {
   "cell_type": "code",
   "execution_count": null,
   "id": "d6d2ab6b",
   "metadata": {},
   "outputs": [],
   "source": [
    "# creating a pdf file object\n",
    "\n",
    "pdfFileObj = open('your pdf file name.pdf', 'rb')\n",
    "\n",
    "# creating a pdf reader object\n",
    "pdfReader = PyPDF2.PdfFileReader(pdfFileObj)\n",
    "\n",
    "# printing number of pages in pdf file\n",
    "print('This pdf file has',pdfReader.numPages, 'pages.')\n",
    "\n",
    "# creating a page object\n",
    "pageObj = pdfReader.getPage(4)\n",
    "\n",
    "# extracting text from page\n",
    "print(pageObj.extractText())\n",
    "\n",
    "# closing the pdf file object\n",
    "pdfFileObj.close()"
   ]
  },
  {
   "cell_type": "markdown",
   "id": "66984405",
   "metadata": {},
   "source": [
    "## END"
   ]
  }
 ],
 "metadata": {
  "kernelspec": {
   "display_name": "Python 3 (ipykernel)",
   "language": "python",
   "name": "python3"
  },
  "language_info": {
   "codemirror_mode": {
    "name": "ipython",
    "version": 3
   },
   "file_extension": ".py",
   "mimetype": "text/x-python",
   "name": "python",
   "nbconvert_exporter": "python",
   "pygments_lexer": "ipython3",
   "version": "3.9.7"
  }
 },
 "nbformat": 4,
 "nbformat_minor": 5
}
